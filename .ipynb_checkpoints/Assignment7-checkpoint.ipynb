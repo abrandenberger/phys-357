{
 "cells": [
  {
   "cell_type": "code",
   "execution_count": 7,
   "metadata": {},
   "outputs": [],
   "source": [
    "import numpy as np \n",
    "import matplotlib.pyplot as plt\n",
    "from scipy.constants import hbar"
   ]
  },
  {
   "cell_type": "markdown",
   "metadata": {},
   "source": [
    "$\\newcommand{\\ket}[1]{\\left|{#1}\\right\\rangle}\n",
    "\\newcommand{\\bra}[1]{\\left\\langle{#1}\\right|}$\n",
    "Define constants $B_{2,0}$, $\\omega_1$, $\\omega$ and $dt$ as the timestep. \n",
    "We will use $$\\hat{U}(t)\\ket{\\psi(0)} = \\ket{\\psi(t)} \\text{ with } \\hat{U}(dt) = \\mathbb{1}-\\frac{i}{\\hbar}\\hat{H}dt$$ \n",
    "So, starting with given IC $\\ket{\\psi(0)} = \\ket{7/2, 7/2}$, we will compute $\\ket{\\psi(t+dt)}$ recursively for each timestep needed using the update\n",
    "$$\\implies \\ket{\\psi(t+dt)} = \\hat{U}(dt)\\ket{\\psi(t)} = \\left(\\mathbb{1}_{8\\times 8} -\\frac{i}{\\hbar}\\hat{H}dt\\right)\\ket{\\psi(t)} $$\n",
    "\n",
    "$$\\hat{H} = \\hat{H_0} + \\hat{H_1} = B_{2,0}\\hbar^2 \\left[\\begin{smallmatrix}21 &&&&&&& \\\\ & 3 &&&&&& \\\\ && -9 &&&&& \\\\ &&& -15 &&&& \\\\ &&&& -15 &&& \\\\ &&&&& -9 && \\\\ &&&&&& 3 & \\\\ &&&&&&& 21\\end{smallmatrix}\\right] + \n",
    "\\omega_1 \\underbrace{\\hbar \\left[ \\begin{smallmatrix}0 &\\sqrt{7}e^{-i\\omega t} & 0 &&&&& \\\\ \\sqrt{7}e^{i\\omega t} & 0 & \\sqrt{12}e^{-i\\omega t} & 0 &&&& \\\\ 0 &\\sqrt{12}e^{i\\omega t} & 0 & \\sqrt{15}e^{-i\\omega t} & 0 &&&\\\\ & 0 & \\sqrt{15}e^{i\\omega t} & 0 & 4e^{-i\\omega t} & 0 && \\\\ & & 0 & 4e^{i\\omega t} & 0 & \\sqrt{15}e^{-i\\omega t} & 0 & \\\\ &&& 0 & \\sqrt{15}e^{i\\omega t} & 0 & \\sqrt{12}e^{-i\\omega t} & 0 \\\\ &&&& 0 & \\sqrt{12}e^{i\\omega t} & 0 & \\sqrt{7}e^{-i\\omega t} \\\\ &&&&& 0 & \\sqrt{7}e^{i\\omega t} & 0\n",
    "\\end{smallmatrix} \\right]}_{= e^{-i\\omega t}\\hat{J}_+ + e^{i\\omega t}\\hat{J}_-}$$"
   ]
  },
  {
   "cell_type": "code",
   "execution_count": 2,
   "metadata": {},
   "outputs": [],
   "source": [
    "B = 1/hbar * 10**9 \n",
    "w_1 = B *hbar \n",
    "w = 18*10**9 \n",
    "dt = 10**(-14)\n",
    "T = 2*np.pi/w"
   ]
  },
  {
   "cell_type": "code",
   "execution_count": 3,
   "metadata": {},
   "outputs": [],
   "source": [
    "# spin Hamiltonian\n",
    "H_0 = B*hbar**2*np.diag([21, 3, -9, -15, -15, -9, 3, 21])\n",
    "# circular polarized light Hamiltonian \n",
    "shifteddiag = [np.sqrt(7), np.sqrt(12), np.sqrt(15), 4, np.sqrt(15), np.sqrt(12), np.sqrt(7)]\n",
    "H_1 = w_1*hbar*np.diag(shifteddiag, k=1)*np.exp(-1j*w*1) + w_1*hbar*np.diag(shifteddiag, k=-1)*np.exp(1j*w*1)\n",
    "# total Hamiltonian \n",
    "H = H_0 + H_1"
   ]
  },
  {
   "cell_type": "code",
   "execution_count": 4,
   "metadata": {},
   "outputs": [],
   "source": [
    "# initialization data |7/2, 7/2>\n",
    "invec = np.reshape(np.matrix([1,0,0,0,0,0,0,0]), (8,1))\n",
    "resultvec = np.reshape(np.matrix([0,1,0,0,0,0,0,0]), (8,1))"
   ]
  },
  {
   "cell_type": "markdown",
   "metadata": {},
   "source": [
    "Function taking in parameters `t_end`, `invec` and `resultvec`: \n",
    "* compute all $\\ket{\\psi(t)}$ up to time `t_end` given previously defined $\\ket{\\psi(0)} = \\ket{7/2, 7/2}$ `invec` \n",
    "* compute the probability of finding the system in $\\ket{\\psi(t)} = \\ket{7/2, 5/2} = [0,1,0,0,0,0,0,0]^T$ (`resultvec`) \n",
    "$$P = \\left| \\ket{7/2, 5/2}^\\dagger \\cdot \\ket{\\psi(t)} \\right|^2 = \\left| \\ket{7/2, 5/2}^T \\cdot \\ket{\\psi(t)} \\right|^2 $$\n",
    "* outputs `(times, vecs, probs)` where `vecs` and `probs` are respectively the state and probability at each timestep, and `times` just to make life easier for plotting."
   ]
  },
  {
   "cell_type": "code",
   "execution_count": 5,
   "metadata": {},
   "outputs": [],
   "source": [
    "def psi(t_end, invec, resultvec): \n",
    "    count=0 \n",
    "    times = []\n",
    "    vecs = []\n",
    "    probs = []\n",
    "    vec = invec\n",
    "    while count <= t_end: \n",
    "        vec = np.dot((np.identity(8) - (1j/hbar)*H*dt), vec)\n",
    "        prob = np.float(np.abs(np.dot(resultvec.T, vec))**2)\n",
    "        vecs.append(vec)\n",
    "        probs.append(prob)\n",
    "        times.append(count)\n",
    "        count += dt\n",
    "    return (times,vecs, probs)"
   ]
  },
  {
   "cell_type": "markdown",
   "metadata": {},
   "source": [
    "Plot the probabilities"
   ]
  },
  {
   "cell_type": "code",
   "execution_count": 6,
   "metadata": {},
   "outputs": [
    {
     "data": {
      "image/png": "[encoded data removed]",
      "text/plain": [
       "<matplotlib.figure.Figure at 0x1eee4ecf6a0>"
      ]
     },
     "metadata": {},
     "output_type": "display_data"
    }
   ],
   "source": [
    "trange, _, probabilities = psi(T, invec, resultvec)\n",
    "plt.plot(np.array(trange)/T, np.array(probabilities)*100)\n",
    "plt.xlabel('Time $t/T$ where $T = 2\\pi/\\omega$')\n",
    "plt.ylabel('Probability [%]')\n",
    "plt.title('Probability of measuring the state $|7/2, 7/2>$ at time $t$')\n",
    "plt.show()"
   ]
  },
  {
   "cell_type": "markdown",
   "metadata": {},
   "source": [
    "Question 7: Effective Hamiltonian"
   ]
  },
  {
   "cell_type": "code",
   "execution_count": 13,
   "metadata": {},
   "outputs": [],
   "source": [
    "H_eff = H_0 - hbar*w*np.diag([7/2, 5/2, 3/2, 1/2, -1/2, -3/2, -5/2, -7/2], \n",
    "                     k=0) + w_1*hbar*np.diag(shifteddiag,k=1) + w_1*hbar*np.diag(shifteddiag, k=-1)"
   ]
  },
  {
   "cell_type": "code",
   "execution_count": 14,
   "metadata": {},
   "outputs": [
    {
     "data": {
      "text/plain": [
       "(array([-4.27508468e-24, -4.79017196e-24, -3.72085884e-24, -2.49329194e-24,\n",
       "        -6.05020282e-25,  1.92191981e-24,  5.08360640e-24,  8.87890149e-24]),\n",
       " array([[ 7.89739245e-01, -5.82454375e-01,  1.92318198e-01,\n",
       "          8.51454701e-03, -1.96593988e-04, -2.75642089e-06,\n",
       "          2.37268218e-08,  1.13626169e-10],\n",
       "        [ 4.36223205e-01,  7.53543504e-01,  4.88245940e-01,\n",
       "          5.90774107e-02, -2.69453314e-03, -6.27437934e-05,\n",
       "          8.08952693e-07,  5.41962637e-09],\n",
       "        [-4.19141795e-01, -2.99726173e-01,  7.99820913e-01,\n",
       "          3.06565682e-01, -2.80567401e-02, -1.08871805e-03,\n",
       "          2.10470537e-05,  1.97345753e-07],\n",
       "        [ 1.01004422e-01,  5.52394283e-02, -2.88656488e-01,\n",
       "          9.25301033e-01, -2.16820885e-01, -1.51867424e-02,\n",
       "          4.56876080e-04,  6.11959140e-06],\n",
       "        [-1.17852129e-02, -5.63870142e-03,  3.98135267e-02,\n",
       "         -2.14177266e-01, -9.62777741e-01, -1.59259560e-01,\n",
       "          8.22685224e-03,  1.65335264e-04],\n",
       "        [ 7.81534546e-04,  3.45032122e-04, -2.90177291e-03,\n",
       "          2.00000986e-02,  1.58582291e-01, -9.80448200e-01,\n",
       "          1.14669323e-01,  3.84402186e-03],\n",
       "        [-3.05972241e-05, -1.28011288e-05,  1.20782262e-04,\n",
       "         -9.67932856e-04, -1.02376865e-02,  1.14475719e-01,\n",
       "          9.90667026e-01,  7.32692966e-02],\n",
       "        [ 6.50020609e-07,  2.61689397e-07, -2.67900282e-06,\n",
       "          2.37908353e-05,  3.01841346e-04, -4.60467739e-03,\n",
       "         -7.32249887e-02,  9.97304771e-01]]))"
      ]
     },
     "execution_count": 14,
     "metadata": {},
     "output_type": "execute_result"
    }
   ],
   "source": [
    "np.linalg.eig(H_eff)"
   ]
  },
  {
   "cell_type": "code",
   "execution_count": null,
   "metadata": {},
   "outputs": [],
   "source": []
  }
 ],
 "metadata": {
  "kernelspec": {
   "display_name": "Python 3",
   "language": "python",
   "name": "python3"
  },
  "language_info": {
   "codemirror_mode": {
    "name": "ipython",
    "version": 3
   },
   "file_extension": ".py",
   "mimetype": "text/x-python",
   "name": "python",
   "nbconvert_exporter": "python",
   "pygments_lexer": "ipython3",
   "version": "3.6.5"
  }
 },
 "nbformat": 4,
 "nbformat_minor": 2
}
