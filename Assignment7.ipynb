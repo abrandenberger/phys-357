{
 "cells": [
  {
   "cell_type": "code",
   "execution_count": 1,
   "metadata": {},
   "outputs": [],
   "source": [
    "import numpy as np \n",
    "import matplotlib.pyplot as plt\n",
    "from scipy.constants import hbar"
   ]
  },
  {
   "cell_type": "markdown",
   "metadata": {},
   "source": [
    "(Q5) $\\newcommand{\\ket}[1]{\\left|{#1}\\right\\rangle}\n",
    "\\newcommand{\\bra}[1]{\\left\\langle{#1}\\right|}$\n",
    "Define constants $B_{2,0} = \\frac{1}{\\hbar}\\cdot 10^{9} \\ J^{-1}s^{-2}$, $\\omega_1 = \\hbar B_{2,0}$, $\\omega = 18\\cdot 10^{9} \\ Hz$, $T = \\frac{2\\pi}{\\omega} \\ s$ for plotting and $dt$ as the timestep. \n",
    "We will use $$\\hat{U}(t)\\ket{\\psi(0)} = \\ket{\\psi(t)} \\text{ with } \\hat{U}(dt) = \\mathbb{1}-\\frac{i}{\\hbar}\\hat{H}dt$$ \n",
    "So, starting with given initial condition $\\ket{\\psi(0)} = \\ket{7/2, 7/2}$, we will compute $\\ket{\\psi(t+dt)}$ recursively for each timestep needed using the update\n",
    "$$\\implies \\ket{\\psi(t+dt)} = \\hat{U}(dt)\\ket{\\psi(t)} = \\left(\\mathbb{1}_{8\\times 8} -\\frac{i}{\\hbar}\\hat{H}dt\\right)\\ket{\\psi(t)} $$\n",
    "\n",
    "$$\\hat{H} = \\hat{H_0} + \\hat{H_1} = B_{2,0}\\hbar^2 \\left[\\begin{smallmatrix}21 &&&&&&& \\\\ & 3 &&&&&& \\\\ && -9 &&&&& \\\\ &&& -15 &&&& \\\\ &&&& -15 &&& \\\\ &&&&& -9 && \\\\ &&&&&& 3 & \\\\ &&&&&&& 21\\end{smallmatrix}\\right] + \n",
    "\\omega_1 \\underbrace{\\hbar \\left[ \\begin{smallmatrix}0 &\\sqrt{7}e^{-i\\omega t} & 0 &&&&& \\\\ \\sqrt{7}e^{i\\omega t} & 0 & \\sqrt{12}e^{-i\\omega t} & 0 &&&& \\\\ 0 &\\sqrt{12}e^{i\\omega t} & 0 & \\sqrt{15}e^{-i\\omega t} & 0 &&&\\\\ & 0 & \\sqrt{15}e^{i\\omega t} & 0 & 4e^{-i\\omega t} & 0 && \\\\ & & 0 & 4e^{i\\omega t} & 0 & \\sqrt{15}e^{-i\\omega t} & 0 & \\\\ &&& 0 & \\sqrt{15}e^{i\\omega t} & 0 & \\sqrt{12}e^{-i\\omega t} & 0 \\\\ &&&& 0 & \\sqrt{12}e^{i\\omega t} & 0 & \\sqrt{7}e^{-i\\omega t} \\\\ &&&&& 0 & \\sqrt{7}e^{i\\omega t} & 0\n",
    "\\end{smallmatrix} \\right]}_{= e^{-i\\omega t}\\hat{J}_+ + e^{i\\omega t}\\hat{J}_-}$$"
   ]
  },
  {
   "cell_type": "code",
   "execution_count": 2,
   "metadata": {},
   "outputs": [],
   "source": [
    "B = 1/hbar * 10**9 \n",
    "w_1 = B *hbar \n",
    "w = 18*10**9 \n",
    "dt = 10**(-12)\n",
    "T = 2*np.pi/w"
   ]
  },
  {
   "cell_type": "code",
   "execution_count": 3,
   "metadata": {},
   "outputs": [],
   "source": [
    "# spin Hamiltonian\n",
    "H_0 = B*hbar**2*np.diag([21, 3, -9, -15, -15, -9, 3, 21])\n",
    "# circular polarized light Hamiltonian \n",
    "shifteddiag = [np.sqrt(7), np.sqrt(12), np.sqrt(15), 4, np.sqrt(15), np.sqrt(12), np.sqrt(7)]\n",
    "def H_1(t): \n",
    "    return w_1*hbar*np.diag(shifteddiag, k=1)*np.exp(-1j*w*t) + w_1*hbar*np.diag(shifteddiag, k=-1)*np.exp(1j*w*t)\n",
    "# total Hamiltonian \n",
    "def H(t): \n",
    "    return H_0 + H_1(t)"
   ]
  },
  {
   "cell_type": "code",
   "execution_count": 4,
   "metadata": {},
   "outputs": [],
   "source": [
    "# initialization data |7/2, 7/2>\n",
    "invec = np.reshape(np.matrix([1,0,0,0,0,0,0,0]), (8,1))\n",
    "resultvec = np.reshape(np.matrix([0,1,0,0,0,0,0,0]), (8,1))"
   ]
  },
  {
   "cell_type": "markdown",
   "metadata": {},
   "source": [
    "Function taking in parameters `t_end`, `invec` and `resultvec`: \n",
    "* compute all $\\ket{\\psi(t)}$ up to time `t_end` given previously defined $\\ket{\\psi(0)} = \\ket{7/2, 7/2}$ `invec` \n",
    "* compute the probability of finding the system in $\\ket{\\psi(t)} = \\ket{7/2, 5/2} = [0,1,0,0,0,0,0,0]^T$ (`resultvec`) \n",
    "$$P = \\left| \\ket{7/2, 5/2}^\\dagger \\cdot \\ket{\\psi(t)} \\right|^2 = \\left| \\ket{7/2, 5/2}^T \\cdot \\ket{\\psi(t)} \\right|^2 $$\n",
    "* outputs `(times, vecs, probs)` where `vecs` and `probs` are respectively the state and probability at each timestep, and `times` just to make life easier for plotting."
   ]
  },
  {
   "cell_type": "code",
   "execution_count": 5,
   "metadata": {},
   "outputs": [],
   "source": [
    "def project(psi, onto): \n",
    "    return np.float(np.abs(np.dot(onto.T, psi))**2)"
   ]
  },
  {
   "cell_type": "code",
   "execution_count": 6,
   "metadata": {},
   "outputs": [],
   "source": [
    "def psi(t_end, invec, resultvec): \n",
    "    count=0 \n",
    "    vec = invec\n",
    "    times = [0]\n",
    "    vecs = [vec]\n",
    "    probs = [project(invec, resultvec)]\n",
    "    while count <= t_end: \n",
    "        count += dt\n",
    "        times.append(count)\n",
    "        vec = np.dot((np.identity(8) - (1j/hbar)*H(count)*dt), vec)\n",
    "        prob = project(vec, resultvec)\n",
    "        vecs.append(vec)\n",
    "        probs.append(prob)\n",
    "    return (times,vecs, probs)"
   ]
  },
  {
   "cell_type": "markdown",
   "metadata": {},
   "source": [
    "Plot the probabilities for $t \\in [0, T]$"
   ]
  },
  {
   "cell_type": "code",
   "execution_count": 7,
   "metadata": {},
   "outputs": [
    {
     "data": {
      "image/png": "[encoded data removed]",
      "text/plain": [
       "<matplotlib.figure.Figure at 0x1b3c8a8d0b8>"
      ]
     },
     "metadata": {},
     "output_type": "display_data"
    }
   ],
   "source": [
    "trange, _, probabilities = psi(T, invec, resultvec)\n",
    "plt.plot(np.array(trange)/T, np.array(probabilities)*100)\n",
    "plt.xlabel('Time $t /T$ where $T = 2\\pi/\\omega$')\n",
    "plt.ylabel('Probability [%]')\n",
    "plt.title('Probability of measuring the state $|7/2, 7/2>$ at time $t$')\n",
    "plt.show()"
   ]
  },
  {
   "cell_type": "markdown",
   "metadata": {},
   "source": [
    "(Q6) Using the ansatz $\\ket{\\psi(t)} = \\sum_m c_m(t)\\ket{7/2, m} \\to \\sum_m d_m(t)e^{-i\\frac{\\hat{J_z}}{\\hbar}\\omega t} \\ket{7/2, m}$, and noticing that $e^{-i\\frac{\\hat{J_z}}{\\hbar}\\omega t}$ is simply the rotation matrix $\\hat{R_z} (\\theta = \\omega t)$ which has eigenvectors $\\ket{7/2, m}$, we can simplify the original time-dependent Schrödinger Equation \n",
    "$$ i\\hbar \\frac{d}{dt}\\sum_m d_m(t) e^{-i\\frac{\\hat{J_z}}{\\hbar}\\omega t} \\ket{7/2, m} = \\hat{H} \\sum_m d_m(t) e^{-i\\frac{\\hat{J_z}}{\\hbar}\\omega t} \\ket{7/2, m}$$\n",
    "into a new time-independent Schrödinger-Equation for the $d_m(t)$ terms \n",
    "$$ i \\hbar \\frac{d}{dt} \\sum_m d_m(t) = \\hat{H}_{eff} \\sum_m d_m(t)$$\n",
    "with effective Hamiltonian \n",
    "$$\\hat{H}_{eff} = \\left[ \\begin{smallmatrix}21B_{2,0}\\hbar^2 - \\hbar\\omega \\frac{7}{2} & \\sqrt{7} \\hbar\\omega_1 & 0 &&&& \\\\ \n",
    "\\sqrt{7} \\hbar\\omega_1 & 3B_{2,0}\\hbar^2 - \\hbar\\omega \\frac{5}{2} & \\sqrt{12} \\hbar\\omega_1 & 0 &&&& \\\\ \n",
    "0 & \\sqrt{12} \\hbar\\omega_1 & -9B_{2,0}\\hbar^2 - \\hbar\\omega \\frac{3}{2}  & \\sqrt{15} \\hbar\\omega_1 & 0 &&& \\\\ \n",
    "& 0 & \\sqrt{15} \\hbar\\omega_1 & -15B_{2,0}\\hbar^2- \\hbar\\omega \\frac{1}{2}  & 4 \\hbar\\omega_1 & 0 && \\\\ \n",
    "&& 0 & 4 \\hbar\\omega_1& -15B_{2,0}\\hbar^2+ \\hbar\\omega \\frac{1}{2}  & \\sqrt{15} \\hbar\\omega_1& 0 & \\\\ \n",
    "&&& 0 & \\sqrt{15} \\hbar\\omega_1 & -9B_{2,0}\\hbar^2 + \\hbar\\omega \\frac{3}{2} & \\sqrt{12} \\hbar\\omega_1 & 0\\\\ \n",
    "&&&& 0 & \\sqrt{12} \\hbar\\omega_1 & 3B_{2,0}\\hbar^2 + \\hbar\\omega \\frac{5}{2} & \\sqrt{7} \\hbar\\omega_1\\\\ \n",
    "&&&&& 0 & \\sqrt{7} \\hbar\\omega_1 & 21B_{2,0}\\hbar^2 + \\hbar\\omega \\frac{7}{2} \\end{smallmatrix} \\right]$$"
   ]
  },
  {
   "cell_type": "code",
   "execution_count": 8,
   "metadata": {},
   "outputs": [],
   "source": [
    "H_eff = H_0 - hbar*w*np.diag([7/2, 5/2, 3/2, 1/2, -1/2, -3/2, -5/2, -7/2], \n",
    "                     k=0) + w_1*hbar*np.diag(shifteddiag,k=1) + w_1*hbar*np.diag(shifteddiag, k=-1)"
   ]
  },
  {
   "cell_type": "markdown",
   "metadata": {},
   "source": [
    "(Q7) We can find the eigenvalues and vectors of $\\hat{H}_{eff}$"
   ]
  },
  {
   "cell_type": "code",
   "execution_count": 9,
   "metadata": {},
   "outputs": [
    {
     "name": "stdout",
     "output_type": "stream",
     "text": [
      "E1= -4.275084677164196e-24    |E1>= [[ 7.89739245e-01 -5.82454375e-01  1.92318198e-01  8.51454701e-03\n",
      "  -1.96593988e-04 -2.75642089e-06  2.37268218e-08  1.13626169e-10]]\n",
      "E2= -4.790171961903924e-24    |E2>= [[ 4.36223205e-01  7.53543504e-01  4.88245940e-01  5.90774107e-02\n",
      "  -2.69453314e-03 -6.27437934e-05  8.08952693e-07  5.41962637e-09]]\n",
      "E3= -3.720858843707998e-24    |E3>= [[-4.19141795e-01 -2.99726173e-01  7.99820913e-01  3.06565682e-01\n",
      "  -2.80567401e-02 -1.08871805e-03  2.10470537e-05  1.97345753e-07]]\n",
      "E4= -2.493291939257788e-24    |E4>= [[ 1.01004422e-01  5.52394283e-02 -2.88656488e-01  9.25301033e-01\n",
      "  -2.16820885e-01 -1.51867424e-02  4.56876080e-04  6.11959140e-06]]\n",
      "E5= -6.050202821770435e-25    |E5>= [[-1.17852129e-02 -5.63870142e-03  3.98135267e-02 -2.14177266e-01\n",
      "  -9.62777741e-01 -1.59259560e-01  8.22685224e-03  1.65335264e-04]]\n",
      "E6= 1.921919809830725e-24    |E6>= [[ 7.81534546e-04  3.45032122e-04 -2.90177291e-03  2.00000986e-02\n",
      "   1.58582291e-01 -9.80448200e-01  1.14669323e-01  3.84402186e-03]]\n",
      "E7= 5.0836064045517924e-24    |E7>= [[-3.05972241e-05 -1.28011288e-05  1.20782262e-04 -9.67932856e-04\n",
      "  -1.02376865e-02  1.14475719e-01  9.90667026e-01  7.32692966e-02]]\n",
      "E8= 8.878901489828434e-24    |E8>= [[ 6.50020609e-07  2.61689397e-07 -2.67900282e-06  2.37908353e-05\n",
      "   3.01841346e-04 -4.60467739e-03 -7.32249887e-02  9.97304771e-01]]\n"
     ]
    }
   ],
   "source": [
    "H_eff_evals, H_eff_evecs = np.linalg.eig(H_eff)\n",
    "H_eff_evecs = [np.matrix(vec).T for vec in H_eff_evecs]\n",
    "for i in range(0, 8): \n",
    "    print('E'+str(i+1)+'=', H_eff_evals[i], '   |E'+str(i+1)+'>=', H_eff_evecs[i].T)"
   ]
  },
  {
   "cell_type": "markdown",
   "metadata": {},
   "source": [
    "(Q8) $\\ket{\\psi} = [v]_E$ in the eigenbasis is $[v]_E = S [v]_{original}$ where $S$ is the change of basis matrix \n",
    "$$S = \\left[\\begin{smallmatrix}| & | & | & | & | & | & | & | \\\\ \n",
    "[E_1] & E_2] & [E_3] & [E_4] & [E_5] & [E_6] & [E_7] & [E_8] \\\\ \n",
    "| & | & | & | & | & | & | & | \\end{smallmatrix}\\right]$$\n",
    "Finding the linear combination of eigenstates which represents $\\ket{\\psi(0)}$ amounts to finding it in the eigenbasis $$\\ket{\\psi(0)}_E = S \\ket{\\psi(0)} = S \\cdot [1,0,0,0,0,0,0,0]^T \\ = E_1 \\text{ in the eigenbasis}$$"
   ]
  },
  {
   "cell_type": "code",
   "execution_count": 10,
   "metadata": {},
   "outputs": [
    {
     "name": "stdout",
     "output_type": "stream",
     "text": [
      "True\n"
     ]
    }
   ],
   "source": [
    "S = np.concatenate(H_eff_evecs).reshape(8,8).T\n",
    "invec_e = np.matmul(S, invec)\n",
    "print(np.all(invec_e == H_eff_evecs[0]))"
   ]
  },
  {
   "cell_type": "markdown",
   "metadata": {},
   "source": [
    "Recall that the ansatz $$\\ket{\\psi(t)} = [c_m(t)] = T [d_m(t)] = T\\ket{\\tilde \\psi(t)} \\text{ where }  T = \\left[e^{-im\\omega t}\\right] \\text{ diagonal}$$ \n",
    "which makes the Schrödinger-Equation time independent. So The time dependence of $\\ket{\\tilde\\psi(0)} = \\sum_\\lambda E_\\lambda \\ket{E_\\lambda}$ satisfies \n",
    "$$ \\ket{\\tilde \\psi(t)} = \\hat{U}(t) \\sum_\\lambda E_\\lambda \\ket{E_\\lambda} = \\sum_\\lambda E_\\lambda e^{-\\frac{i}{\\hbar}E_\\lambda t}\\ket{E_\\lambda}$$ i.e. in vector form, \n",
    "$$ [\\tilde \\psi(t)]_E = D [\\psi(0)]_E \\text{ where } D = \\left[e^{-\\frac{i}{\\hbar}E_\\lambda t} \\ \\forall\\lambda \\in [1,8]\\right] \\text{ diagonal}$$"
   ]
  },
  {
   "cell_type": "code",
   "execution_count": 11,
   "metadata": {},
   "outputs": [],
   "source": [
    "def D(t): \n",
    "    return np.exp(-(1j/hbar)*np.diag(H_eff_evals)*t) "
   ]
  },
  {
   "cell_type": "markdown",
   "metadata": {},
   "source": [
    "To find the output vector, we must find $[\\tilde \\psi(t)]_E$, then convert back to the original basis and find the original $[\\psi(t)]$ via $$[\\psi(t)] = e^{-i\\frac{\\hat{J_z}}{\\hbar}\\omega t} S^\\dagger [\\tilde\\psi(t)]_E =  e^{-i\\frac{\\hat{J_z}}{\\hbar}\\omega t}S^\\dagger D [\\psi(0)]_E $$ where $S$ is the change of basis matrix defined above, $D$ is the diagonal time operation matrix defined above. \n",
    "\n",
    "We can then project onto $\\ket{7/2,5/2}$ to find the probability, as before."
   ]
  },
  {
   "cell_type": "code",
   "execution_count": 16,
   "metadata": {},
   "outputs": [],
   "source": [
    "def back_to_c(t):  \n",
    "    J_z_diag = hbar/2*np.array([7, 5, 3, 1, -1, -3, -5, -7])\n",
    "    return np.diag(np.exp(-1j/hbar *J_z_diag *w*t))"
   ]
  },
  {
   "cell_type": "code",
   "execution_count": 17,
   "metadata": {},
   "outputs": [],
   "source": [
    "def psi_eig(t, invec_e, resultvec): \n",
    "    outvec = np.matmul(D(t), invec_e) # time evolution of d_m \n",
    "    outvec = np.matmul(S.H, outvec) # back to original basis \n",
    "    outvec = np.matmul(back_to_c(t), outvec)\n",
    "    prob = project(outvec, resultvec)\n",
    "    return (outvec, prob)"
   ]
  },
  {
   "cell_type": "code",
   "execution_count": 28,
   "metadata": {},
   "outputs": [],
   "source": [
    "tvals = np.linspace(0, T, num=100)\n",
    "plotdata = [psi_eig(t, invec_e, resultvec)[1] for t in tvals]"
   ]
  },
  {
   "cell_type": "code",
   "execution_count": 29,
   "metadata": {},
   "outputs": [
    {
     "data": {
      "text/plain": [
       "[<matplotlib.lines.Line2D at 0x1b3c8fcd4e0>]"
      ]
     },
     "execution_count": 29,
     "metadata": {},
     "output_type": "execute_result"
    },
    {
     "data": {
      "image/png": "[encoded data removed]",
      "text/plain": [
       "<matplotlib.figure.Figure at 0x1b3c8feaf60>"
      ]
     },
     "metadata": {},
     "output_type": "display_data"
    }
   ],
   "source": [
    "plt.plot(tvals, plotdata)"
   ]
  },
  {
   "cell_type": "code",
   "execution_count": null,
   "metadata": {},
   "outputs": [],
   "source": []
  }
 ],
 "metadata": {
  "kernelspec": {
   "display_name": "Python 3",
   "language": "python",
   "name": "python3"
  },
  "language_info": {
   "codemirror_mode": {
    "name": "ipython",
    "version": 3
   },
   "file_extension": ".py",
   "mimetype": "text/x-python",
   "name": "python",
   "nbconvert_exporter": "python",
   "pygments_lexer": "ipython3",
   "version": "3.6.5"
  }
 },
 "nbformat": 4,
 "nbformat_minor": 2
}
